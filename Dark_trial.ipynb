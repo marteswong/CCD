{
 "cells": [
  {
   "cell_type": "code",
   "execution_count": 14,
   "metadata": {},
   "outputs": [],
   "source": [
    "import numpy as np\n",
    "import matplotlib\n",
    "import pandas as pd\n",
    "import math"
   ]
  },
  {
   "cell_type": "code",
   "execution_count": 2,
   "metadata": {},
   "outputs": [
    {
     "name": "stdout",
     "output_type": "stream",
     "text": [
      "(959, 1281)\n"
     ]
    }
   ],
   "source": [
    "darkPath = '/home/marteswong/CCD/CCD dark/'\n",
    "dark_bias = 'bias_0_230915-143930.dat'\n",
    "dark_dark = 'dark_0_230915-143346.dat'\n",
    "\n",
    "\n",
    "data_df = pd.read_csv(darkPath + dark_dark, delimiter=' ')\n",
    "data_array = np.array(data_df)\n",
    "print(data_array.shape)"
   ]
  },
  {
   "cell_type": "code",
   "execution_count": 3,
   "metadata": {},
   "outputs": [],
   "source": [
    "#Convert the value from hex to dec\n",
    "data_dec = np.zeros(data_array.shape)\n",
    "\n",
    "for i in range(len(data_array)):\n",
    "    for j in range(len(data_array[i])-1):\n",
    "        t = data_array[i][j]\n",
    "        d = int(str(t), base=16)\n",
    "        data_dec[i][j] = d\n",
    "\n",
    "# t = 'A3'\n",
    "# d = int(t, base=16)\n",
    "# print('Decimal :', d)\n"
   ]
  },
  {
   "cell_type": "code",
   "execution_count": 4,
   "metadata": {},
   "outputs": [
    {
     "name": "stdout",
     "output_type": "stream",
     "text": [
      "[[16.  0.  0. ...  0.  0.  2.]\n",
      " [ 0.  0. 13. ... 17.  0.  1.]\n",
      " [ 0. 13.  3. ...  0.  0.  0.]\n",
      " ...\n",
      " [ 0.  0.  0. ...  1. 17.  0.]\n",
      " [ 0.  0. 18. ... 25.  6.  0.]\n",
      " [ 0.  0. 14. ... 96.  0. 67.]]\n"
     ]
    }
   ],
   "source": [
    "print(data_dec[430:530, 590:690])"
   ]
  },
  {
   "cell_type": "code",
   "execution_count": 5,
   "metadata": {},
   "outputs": [
    {
     "name": "stdout",
     "output_type": "stream",
     "text": [
      "Count 1:(array([  0.,   1.,   2.,   3.,   4.,   5.,   6.,   7.,   8.,   9.,  10.,\n",
      "        11.,  12.,  13.,  14.,  15.,  16.,  17.,  18.,  19.,  20.,  21.,\n",
      "        22.,  23.,  24.,  25.,  26.,  27.,  28.,  29.,  30.,  31.,  32.,\n",
      "        33.,  34.,  35.,  36.,  37.,  38.,  39.,  40.,  41.,  42.,  43.,\n",
      "        44.,  45.,  46.,  47.,  48.,  49.,  50.,  51.,  52.,  53.,  54.,\n",
      "        55.,  56.,  57.,  59.,  60.,  61.,  62.,  63.,  64.,  65.,  66.,\n",
      "        67.,  70.,  71.,  72.,  73.,  74.,  75.,  76.,  78.,  79.,  81.,\n",
      "        82.,  85.,  86.,  87.,  88.,  89.,  90.,  91.,  92.,  94.,  96.,\n",
      "        97., 100., 104., 111., 113., 114., 115., 120., 125., 138., 143.,\n",
      "       147., 148., 153., 157., 158., 206., 238.]), array([6289,  426,  413,  265,  299,  247,  204,  148,  169,  133,  129,\n",
      "        107,   88,   77,   66,   67,   61,   59,   52,   51,   45,   37,\n",
      "         27,   43,   25,   33,   28,   23,   14,   19,   16,   17,   23,\n",
      "         24,   14,   10,   17,   12,    9,   12,    7,   12,   10,    8,\n",
      "         13,   11,    6,    4,    6,    2,    5,    6,    5,    8,    7,\n",
      "          5,    5,    5,    1,    1,    7,    6,    2,    2,    3,    1,\n",
      "          5,    2,    1,    2,    1,    1,    1,    1,    1,    3,    1,\n",
      "          1,    1,    1,    2,    2,    1,    1,    1,    2,    3,    1,\n",
      "          1,    1,    1,    1,    1,    1,    2,    1,    1,    1,    1,\n",
      "          1,    1,    1,    1,    1,    1,    1]))\n",
      "\n",
      "Count 2:(array([  0.,   1.,   2.,   3.,   4.,   5.,   6.,   7.,   8.,   9.,  10.,\n",
      "        11.,  12.,  13.,  14.,  15.,  16.,  17.,  18.,  19.,  20.,  21.,\n",
      "        22.,  23.,  24.,  25.,  26.,  27.,  28.,  29.,  30.,  31.,  32.,\n",
      "        33.,  34.,  35.,  36.,  37.,  38.,  39.,  40.,  41.,  42.,  43.,\n",
      "        44.,  45.,  46.,  47.,  48.,  49.,  50.,  51.,  52.,  53.,  54.,\n",
      "        55.,  56.,  57.,  59.,  60.,  61.,  62.,  63.,  64.,  65.,  66.,\n",
      "        67.,  69.,  70.,  71.,  72.,  73.,  74.,  75.,  76.,  78.,  79.,\n",
      "        80.,  82.,  84.,  87.,  88.,  89.,  90.,  92.,  94.,  95.,  98.,\n",
      "        99., 100., 102., 104., 111., 113., 114., 115., 125., 128., 133.,\n",
      "       137., 138., 146., 147., 153., 154., 157., 158., 242.]), array([6259,  461,  421,  294,  282,  240,  184,  163,  172,  128,  118,\n",
      "        121,   84,   77,   59,   70,   54,   61,   61,   47,   41,   40,\n",
      "         29,   37,   25,   23,   28,   23,   15,   21,   19,   19,   25,\n",
      "         15,   15,   13,   14,   10,   10,   16,    9,   12,    9,    5,\n",
      "         13,    8,    7,    4,    8,    2,    8,    7,    5,    6,    3,\n",
      "          3,    6,    3,    1,    2,    7,    7,    3,    1,    5,    1,\n",
      "          3,    1,    4,    1,    1,    1,    1,    1,    1,    1,    6,\n",
      "          3,    1,    1,    1,    2,    1,    1,    1,    3,    1,    2,\n",
      "          1,    1,    2,    1,    1,    2,    1,    1,    1,    1,    1,\n",
      "          1,    1,    1,    1,    2,    1,    1,    1,    1]))\n",
      "\n",
      "Count 3:(array([  0.,   1.,   2.,   3.,   4.,   5.,   6.,   7.,   8.,   9.,  10.,\n",
      "        11.,  12.,  13.,  14.,  15.,  16.,  17.,  18.,  19.,  20.,  21.,\n",
      "        22.,  23.,  24.,  25.,  26.,  27.,  28.,  29.,  30.,  31.,  32.,\n",
      "        33.,  34.,  35.,  36.,  37.,  38.,  39.,  40.,  41.,  42.,  43.,\n",
      "        44.,  45.,  46.,  47.,  48.,  49.,  50.,  51.,  52.,  53.,  54.,\n",
      "        55.,  56.,  57.,  58.,  59.,  60.,  61.,  62.,  63.,  64.,  65.,\n",
      "        67.,  70.,  71.,  72.,  73.,  74.,  75.,  79.,  80.,  81.,  82.,\n",
      "        84.,  85.,  86.,  87.,  88.,  89.,  90.,  92.,  94.,  96.,  97.,\n",
      "       100., 101., 102., 104., 111., 113., 114., 115., 120., 126., 137.,\n",
      "       138., 143., 147., 148., 149., 158., 206., 231., 238., 248.]), array([6239,  476,  382,  271,  312,  252,  208,  157,  157,  143,  127,\n",
      "         92,   93,   97,   69,   64,   61,   51,   55,   53,   43,   36,\n",
      "         32,   31,   27,   40,   31,   27,   10,   16,   14,   18,   19,\n",
      "         18,   14,    9,   16,    9,    8,   12,    8,   10,   11,    8,\n",
      "         13,    6,    9,    7,    7,    4,    6,    7,    6,    6,    6,\n",
      "          5,    4,    3,    3,    1,    1,    5,    4,    1,    1,    4,\n",
      "          6,    3,    3,    2,    2,    2,    1,    3,    1,    2,    1,\n",
      "          1,    1,    1,    1,    1,    2,    1,    2,    2,    1,    1,\n",
      "          1,    2,    1,    1,    2,    1,    1,    2,    1,    1,    1,\n",
      "          1,    2,    1,    1,    1,    1,    1,    1,    1,    1]))\n"
     ]
    }
   ],
   "source": [
    "test1 = data_dec[430:530, 590:690]   # 6289\n",
    "test2 = data_dec[410:510, 570:670]   # 6259\n",
    "test3 = data_dec[450:550, 610:710]   # 6239\n",
    "\n",
    "print(\"Count 1:\" + str(np.unique(test1, return_counts=True)))\n",
    "print()\n",
    "print(\"Count 2:\" + str(np.unique(test2, return_counts=True)))\n",
    "print()\n",
    "print(\"Count 3:\" + str(np.unique(test3, return_counts=True)))\n",
    "\n",
    "# Choose the first one\n",
    "dark_roi = data_dec[430:530, 590:690]"
   ]
  },
  {
   "cell_type": "markdown",
   "metadata": {},
   "source": [
    "### **Choose [430:530, 590:690] as the subset, i.e. the Region of Interest(ROI)**"
   ]
  },
  {
   "cell_type": "code",
   "execution_count": 6,
   "metadata": {},
   "outputs": [],
   "source": [
    "data_df = pd.read_csv(darkPath + dark_bias, delimiter=' ')\n",
    "bias_array = np.array(data_df)[430:530, 590:690]\n",
    "# there are only 0.0s and 1.0s in bias_array(automatic conversion? idk), therefore no need to convert to decimal number)\n",
    "# print(\"Count bias:\" + str(np.unique(bias_array, return_counts=True)))"
   ]
  },
  {
   "cell_type": "code",
   "execution_count": 11,
   "metadata": {},
   "outputs": [
    {
     "name": "stdout",
     "output_type": "stream",
     "text": [
      "0.00140\n",
      "4.45930\n",
      "Result(count per second) = 0.07429833333333333\n"
     ]
    }
   ],
   "source": [
    "# Compute the dark count in counts per second(as I haven't got the system gain of the CCD to convert to electrons/second)\n",
    "C_b = np.mean(bias_array)\n",
    "C_d = np.mean(dark_roi)\n",
    "result = (C_d - C_b)/60\n",
    "print(\"{:.5f}\".format(C_b))\n",
    "print(\"{:.5f}\".format(C_d))\n",
    "print(\"Result(count per second) = \" + str(result))    # 0.07429833333333333"
   ]
  },
  {
   "cell_type": "code",
   "execution_count": 9,
   "metadata": {},
   "outputs": [
    {
     "name": "stdout",
     "output_type": "stream",
     "text": [
      "0.0\n",
      "0.0\n"
     ]
    }
   ],
   "source": [
    "print(dark_roi[47, 49])\n",
    "print(dark_roi[51][50])\n",
    "# Choose this pixel as THE pixel in exp 3c"
   ]
  },
  {
   "cell_type": "code",
   "execution_count": 10,
   "metadata": {},
   "outputs": [
    {
     "name": "stdout",
     "output_type": "stream",
     "text": [
      "Result(electrons per second) = 2.534539045\n"
     ]
    }
   ],
   "source": [
    "# Compute the dark count in electrons per second\n",
    "gain = 34.113\n",
    "result2 = (C_d - C_b)/60 * gain\n",
    "print(\"Result(electrons per second) = \" + str(result2))    # 2.534539045"
   ]
  },
  {
   "cell_type": "code",
   "execution_count": 12,
   "metadata": {},
   "outputs": [
    {
     "name": "stdout",
     "output_type": "stream",
     "text": [
      "0.037390373092548834\n",
      "11.528058965411306\n"
     ]
    }
   ],
   "source": [
    "# Compute the std of bias and bias-subtracted dark frame\n",
    "dC_b = np.std(bias_array)   \n",
    "dC_d = np.std(dark_roi)     \n",
    "print(dC_b)\n",
    "print(dC_d)"
   ]
  },
  {
   "cell_type": "code",
   "execution_count": 15,
   "metadata": {},
   "outputs": [
    {
     "name": "stdout",
     "output_type": "stream",
     "text": [
      "11.528119601652302\n"
     ]
    }
   ],
   "source": [
    "# Compute the std of the system gain and the dark count\n",
    "dC = math.sqrt((dC_b**2)+(dC_d**2))\n",
    "print(dC)"
   ]
  },
  {
   "cell_type": "code",
   "execution_count": 16,
   "metadata": {},
   "outputs": [
    {
     "name": "stdout",
     "output_type": "stream",
     "text": [
      "4.4578999999999995\n"
     ]
    }
   ],
   "source": [
    "print(C_d - C_b)"
   ]
  },
  {
   "cell_type": "code",
   "execution_count": null,
   "metadata": {},
   "outputs": [],
   "source": []
  }
 ],
 "metadata": {
  "kernelspec": {
   "display_name": "astropy_test",
   "language": "python",
   "name": "python3"
  },
  "language_info": {
   "codemirror_mode": {
    "name": "ipython",
    "version": 3
   },
   "file_extension": ".py",
   "mimetype": "text/x-python",
   "name": "python",
   "nbconvert_exporter": "python",
   "pygments_lexer": "ipython3",
   "version": "3.11.0"
  }
 },
 "nbformat": 4,
 "nbformat_minor": 4
}
